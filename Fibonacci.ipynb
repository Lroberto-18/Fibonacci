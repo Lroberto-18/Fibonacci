{
 "cells": [
  {
   "cell_type": "markdown",
   "id": "59f926bb-6f79-4ed6-b15b-1adf99053e66",
   "metadata": {
    "tags": []
   },
   "source": [
    "# Algoritmo Matricial sequência de fibonacci <h1>\n"
   ]
  },
  {
   "cell_type": "markdown",
   "id": "c29daab8-0c36-45f0-83f4-87669a98af0d",
   "metadata": {},
   "source": [
    "$$\n",
    "\\begin{bmatrix}0 & 1 \\\\1 & 1 \\end{bmatrix}^n = \\begin{bmatrix}F_{n-1} & F_{n}\\\\ F_{n} & F_{n+1}\\end{bmatrix}\n",
    "$$"
   ]
  },
  {
   "cell_type": "code",
   "execution_count": 1,
   "id": "8aa398d7-3111-4f92-9cdd-714affd0e35b",
   "metadata": {},
   "outputs": [],
   "source": [
    "import numpy as np"
   ]
  },
  {
   "cell_type": "code",
   "execution_count": 2,
   "id": "d173a8ce-efcb-42f4-b583-7b418106e957",
   "metadata": {},
   "outputs": [],
   "source": [
    "def fibonacci(n):\n",
    "    assert n>=0\n",
    "    if(n==1):\n",
    "        return 1\n",
    "    elif(n==0):\n",
    "        return 0\n",
    "    else:\n",
    "        M1 = np.array([[0,1],[1,1]])\n",
    "        M2 = M1\n",
    "        for i in range(1,n):\n",
    "            M2 = np.dot(M1,M2)\n",
    "        return M2[0,1]"
   ]
  },
  {
   "cell_type": "code",
   "execution_count": 4,
   "id": "370dc834-65d3-4f9b-8e47-5c21c5511c3b",
   "metadata": {},
   "outputs": [
    {
     "name": "stdout",
     "output_type": "stream",
     "text": [
      "O 1° número da sequência de Fibonacci é: 1\n",
      "True\n",
      "O 2° número da sequência de Fibonacci é: 1\n",
      "True\n",
      "O 3° número da sequência de Fibonacci é: 2\n",
      "True\n",
      "O 4° número da sequência de Fibonacci é: 3\n",
      "True\n",
      "O 5° número da sequência de Fibonacci é: 5\n",
      "True\n",
      "O 6° número da sequência de Fibonacci é: 8\n",
      "True\n",
      "O 7° número da sequência de Fibonacci é: 13\n",
      "True\n",
      "O 8° número da sequência de Fibonacci é: 21\n",
      "True\n",
      "O 9° número da sequência de Fibonacci é: 34\n",
      "True\n",
      "O 10° número da sequência de Fibonacci é: 55\n",
      "True\n",
      "O 11° número da sequência de Fibonacci é: 89\n",
      "True\n",
      "O 12° número da sequência de Fibonacci é: 144\n",
      "True\n",
      "O 13° número da sequência de Fibonacci é: 233\n",
      "True\n",
      "O 14° número da sequência de Fibonacci é: 377\n",
      "True\n",
      "O 15° número da sequência de Fibonacci é: 610\n",
      "True\n",
      "O 16° número da sequência de Fibonacci é: 987\n",
      "True\n"
     ]
    }
   ],
   "source": [
    "fibonacci_sequence = [1, 1, 2, 3, 5, 8, 13, 21, 34, 55, 89, 144, 233, 377, 610, 987]\n",
    "for i in range(16):\n",
    "    print(f\"O {i+1}° número da sequência de Fibonacci é: {fibonacci(i+1)}\")\n",
    "    print(fibonacci_sequence[i]==fibonacci(i+1))"
   ]
  }
 ],
 "metadata": {
  "kernelspec": {
   "display_name": "Python 3 (ipykernel)",
   "language": "python",
   "name": "python3"
  },
  "language_info": {
   "codemirror_mode": {
    "name": "ipython",
    "version": 3
   },
   "file_extension": ".py",
   "mimetype": "text/x-python",
   "name": "python",
   "nbconvert_exporter": "python",
   "pygments_lexer": "ipython3",
   "version": "3.8.10"
  }
 },
 "nbformat": 4,
 "nbformat_minor": 5
}
